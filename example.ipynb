{
 "cells": [
  {
   "cell_type": "markdown",
   "metadata": {},
   "source": [
    "# Witness Set"
   ]
  },
  {
   "cell_type": "code",
   "execution_count": 1,
   "metadata": {},
   "outputs": [],
   "source": [
    "import numpy as np\n",
    "import witness as wt"
   ]
  },
  {
   "cell_type": "markdown",
   "metadata": {},
   "source": [
    "## Example 1: Manual input"
   ]
  },
  {
   "cell_type": "code",
   "execution_count": 2,
   "metadata": {},
   "outputs": [],
   "source": [
    "attractors = [\n",
    "[1, 0, 0, 0, 0, 0, 0],\n",
    "[0, 1, 0, 0, 0, 0, 0],\n",
    "[0, 0, 1, 0, 0, 0, 0],\n",
    "[0, 0, 0, 1, 0, 0, 0],\n",
    "[0, 0, 0, 0, 1, 0, 0],\n",
    "[0, 0, 0, 0, 0, 1, 0],\n",
    "[0, 0, 0, 0, 0, 0, 1],\n",
    "[1, 0, 1, 0, 0, 0, 1],\n",
    "[0, 1, 0, 1, 0, 0, 1],\n",
    "[1, 0, 0, 1, 0, 1, 0],\n",
    "[0, 1, 1, 0, 0, 1, 0],\n",
    "[0, 0, 0, 0, 1, 1, 1],\n",
    "[0, 0, 1, 1, 1, 0, 0],\n",
    "[1, 1, 0, 0, 1, 0, 0]]"
   ]
  },
  {
   "cell_type": "code",
   "execution_count": 3,
   "metadata": {},
   "outputs": [
    {
     "data": {
      "text/plain": [
       "(0, 2, 4, 5)"
      ]
     },
     "execution_count": 3,
     "metadata": {},
     "output_type": "execute_result"
    }
   ],
   "source": [
    "wt.distinguishing_nodes(attractors,4)"
   ]
  },
  {
   "cell_type": "code",
   "execution_count": 4,
   "metadata": {},
   "outputs": [
    {
     "name": "stdout",
     "output_type": "stream",
     "text": [
      "<|w|> = 3.0\n",
      "log2(14) = 3.807354922057604\n"
     ]
    }
   ],
   "source": [
    "print ('<|w|> = '+str( wt.avg_witness_set_size(attractors)  ) )\n",
    "print ('log2(' +str(len(attractors))+  ') = '+str(np.log2(len(attractors))) )"
   ]
  },
  {
   "cell_type": "markdown",
   "metadata": {},
   "source": [
    "## Example 2: Distribution of random sets of vectors (fixed bias 50%)"
   ]
  },
  {
   "cell_type": "code",
   "execution_count": 5,
   "metadata": {},
   "outputs": [
    {
     "name": "stdout",
     "output_type": "stream",
     "text": [
      "avg(<|w|>) = 2.638\n",
      "log2(10) =  3.321928094887362\n"
     ]
    }
   ],
   "source": [
    "n = 5\n",
    "r = 10\n",
    "sim = 100\n",
    "dist = wt.distribution_parameters_fixed_r (n, r, sim)\n",
    "\n",
    "print('avg(<|w|>) =', dist[1])\n",
    "print('log2('+str(r)+') = ',np.log2(10))"
   ]
  }
 ],
 "metadata": {
  "kernelspec": {
   "display_name": "Python 2",
   "language": "python",
   "name": "python2"
  },
  "language_info": {
   "codemirror_mode": {
    "name": "ipython",
    "version": 3
   },
   "file_extension": ".py",
   "mimetype": "text/x-python",
   "name": "python",
   "nbconvert_exporter": "python",
   "pygments_lexer": "ipython3",
   "version": "3.9.5"
  }
 },
 "nbformat": 4,
 "nbformat_minor": 2
}
